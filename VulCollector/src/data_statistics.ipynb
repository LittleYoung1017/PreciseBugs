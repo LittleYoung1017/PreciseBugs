{
 "cells": [
  {
   "cell_type": "code",
   "execution_count": 27,
   "id": "048a2d6b",
   "metadata": {},
   "outputs": [],
   "source": [
    "import collections\n",
    "import json\n",
    "import pandas as pd\n",
    "\n",
    "from pathlib import Path"
   ]
  },
  {
   "cell_type": "code",
   "execution_count": 28,
   "id": "a55a368c",
   "metadata": {},
   "outputs": [],
   "source": [
    "def get_project_name(bug_entry):\n",
    "    github_url = bug_entry['other']['github_commit_url']\n",
    "    return '/'.join(github_url.split('/')[3:5])\n",
    "\n",
    "def get_most_common_extension(bug_entry):\n",
    "    all_filename_extensions = []\n",
    "    for filename in bug_entry['filenames']:\n",
    "        all_filename_extensions.append(Path(filename).suffix)\n",
    "    if not all_filename_extensions:\n",
    "        return ''\n",
    "    return collections.Counter(all_filename_extensions).most_common(1)[0][0]"
   ]
  },
  {
   "cell_type": "code",
   "execution_count": 43,
   "id": "e5552d2c",
   "metadata": {},
   "outputs": [],
   "source": [
    "# Read all data into Pandas table\n",
    "\n",
    "output_data_dir = Path('../output_data')\n",
    "\n",
    "list_of_bug_entry = []\n",
    "for bug_entry_file in output_data_dir.rglob('BugEntry.json'):\n",
    "    with bug_entry_file.open() as f:\n",
    "        list_of_bug_entry.append(json.load(f))\n",
    "        \n",
    "        vul_data = pd.DataFrame.from_records(list_of_bug_entry)"
   ]
  },
  {
   "cell_type": "code",
   "execution_count": 54,
   "id": "faa7175d",
   "metadata": {},
   "outputs": [
    {
     "data": {
      "text/html": [
       "<div>\n",
       "<style scoped>\n",
       "    .dataframe tbody tr th:only-of-type {\n",
       "        vertical-align: middle;\n",
       "    }\n",
       "\n",
       "    .dataframe tbody tr th {\n",
       "        vertical-align: top;\n",
       "    }\n",
       "\n",
       "    .dataframe thead th {\n",
       "        text-align: right;\n",
       "    }\n",
       "</style>\n",
       "<table border=\"1\" class=\"dataframe\">\n",
       "  <thead>\n",
       "    <tr style=\"text-align: right;\">\n",
       "      <th></th>\n",
       "      <th>buggy_code</th>\n",
       "      <th>fixing_code</th>\n",
       "      <th>filenames</th>\n",
       "      <th>buggy_code_start_loc</th>\n",
       "      <th>buggy_code_end_loc</th>\n",
       "      <th>fixing_code_start_loc</th>\n",
       "      <th>fixing_code_end_loc</th>\n",
       "      <th>type</th>\n",
       "      <th>message</th>\n",
       "      <th>other</th>\n",
       "    </tr>\n",
       "  </thead>\n",
       "  <tbody>\n",
       "    <tr>\n",
       "      <th>0</th>\n",
       "      <td>[/*\\n *       .                             .o...</td>\n",
       "      <td>[/*\\n *       .                             .o...</td>\n",
       "      <td>[src/helpers/utils/index.js, src/models/chat/m...</td>\n",
       "      <td>[21, 15]</td>\n",
       "      <td>[28, 84]</td>\n",
       "      <td>[22, 15]</td>\n",
       "      <td>[34, 91]</td>\n",
       "      <td>CWE-190</td>\n",
       "      <td>Integer Overflow or Wraparound in GitHub repos...</td>\n",
       "      <td>{'cve': {'id': 'CVE-2022-1926', 'sourceIdentif...</td>\n",
       "    </tr>\n",
       "    <tr>\n",
       "      <th>1</th>\n",
       "      <td>[import {\\n  Entity,\\n  Column,\\n  PrimaryGene...</td>\n",
       "      <td>[import {\\n  Entity,\\n  Column,\\n  PrimaryGene...</td>\n",
       "      <td>[server/src/entities/comment.entity.ts, server...</td>\n",
       "      <td>[47, 9]</td>\n",
       "      <td>[48, 106]</td>\n",
       "      <td>[47, 9]</td>\n",
       "      <td>[48, 114]</td>\n",
       "      <td>CWE-639</td>\n",
       "      <td>The forgot password token basically just makes...</td>\n",
       "      <td>{'cve': {'id': 'CVE-2022-3019', 'sourceIdentif...</td>\n",
       "    </tr>\n",
       "    <tr>\n",
       "      <th>2</th>\n",
       "      <td>['use strict'\\n\\nconst crypto = require('crypt...</td>\n",
       "      <td>['use strict'\\n\\nconst crypto = require('crypt...</td>\n",
       "      <td>[plugin.js, test/decorate.test.js]</td>\n",
       "      <td>[19, 22]</td>\n",
       "      <td>[102, 22]</td>\n",
       "      <td>[20, 23]</td>\n",
       "      <td>[112, 31]</td>\n",
       "      <td>CWE-203</td>\n",
       "      <td>@fastify/bearer-auth is a Fastify plugin to re...</td>\n",
       "      <td>{'cve': {'id': 'CVE-2022-31142', 'sourceIdenti...</td>\n",
       "    </tr>\n",
       "    <tr>\n",
       "      <th>3</th>\n",
       "      <td>[/*\\n * card-cac.c: Support for CAC from NIST ...</td>\n",
       "      <td>[/*\\n * card-cac.c: Support for CAC from NIST ...</td>\n",
       "      <td>[src/libopensc/card-cac.c, src/libopensc/card-...</td>\n",
       "      <td>[797, 954, 521, 411, 82, 211, 840, 631, 23, 15...</td>\n",
       "      <td>[798, 979, 531, 437, 83, 212, 846, 632, 386, 1...</td>\n",
       "      <td>[797, 954, 521, 411, 82, 211, 840, 631, 24, 15...</td>\n",
       "      <td>[798, 981, 534, 437, 83, 212, 848, 632, 387, 1...</td>\n",
       "      <td>CWE-119</td>\n",
       "      <td>Several buffer overflows when handling respons...</td>\n",
       "      <td>{'cve': {'id': 'CVE-2018-16421', 'sourceIdenti...</td>\n",
       "    </tr>\n",
       "    <tr>\n",
       "      <th>4</th>\n",
       "      <td>[/*\\n #\\n #  File            : CImg.h\\n #     ...</td>\n",
       "      <td>[/*\\n #\\n #  File            : CImg.h\\n #     ...</td>\n",
       "      <td>[CImg.h]</td>\n",
       "      <td>[53186]</td>\n",
       "      <td>[55051]</td>\n",
       "      <td>[53187]</td>\n",
       "      <td>[55065]</td>\n",
       "      <td>CWE-770</td>\n",
       "      <td>A flaw was found in Clmg, where with the help ...</td>\n",
       "      <td>{'cve': {'id': 'CVE-2022-1325', 'sourceIdentif...</td>\n",
       "    </tr>\n",
       "  </tbody>\n",
       "</table>\n",
       "</div>"
      ],
      "text/plain": [
       "                                          buggy_code  \\\n",
       "0  [/*\\n *       .                             .o...   \n",
       "1  [import {\\n  Entity,\\n  Column,\\n  PrimaryGene...   \n",
       "2  ['use strict'\\n\\nconst crypto = require('crypt...   \n",
       "3  [/*\\n * card-cac.c: Support for CAC from NIST ...   \n",
       "4  [/*\\n #\\n #  File            : CImg.h\\n #     ...   \n",
       "\n",
       "                                         fixing_code  \\\n",
       "0  [/*\\n *       .                             .o...   \n",
       "1  [import {\\n  Entity,\\n  Column,\\n  PrimaryGene...   \n",
       "2  ['use strict'\\n\\nconst crypto = require('crypt...   \n",
       "3  [/*\\n * card-cac.c: Support for CAC from NIST ...   \n",
       "4  [/*\\n #\\n #  File            : CImg.h\\n #     ...   \n",
       "\n",
       "                                           filenames  \\\n",
       "0  [src/helpers/utils/index.js, src/models/chat/m...   \n",
       "1  [server/src/entities/comment.entity.ts, server...   \n",
       "2                 [plugin.js, test/decorate.test.js]   \n",
       "3  [src/libopensc/card-cac.c, src/libopensc/card-...   \n",
       "4                                           [CImg.h]   \n",
       "\n",
       "                                buggy_code_start_loc  \\\n",
       "0                                           [21, 15]   \n",
       "1                                            [47, 9]   \n",
       "2                                           [19, 22]   \n",
       "3  [797, 954, 521, 411, 82, 211, 840, 631, 23, 15...   \n",
       "4                                            [53186]   \n",
       "\n",
       "                                  buggy_code_end_loc  \\\n",
       "0                                           [28, 84]   \n",
       "1                                          [48, 106]   \n",
       "2                                          [102, 22]   \n",
       "3  [798, 979, 531, 437, 83, 212, 846, 632, 386, 1...   \n",
       "4                                            [55051]   \n",
       "\n",
       "                               fixing_code_start_loc  \\\n",
       "0                                           [22, 15]   \n",
       "1                                            [47, 9]   \n",
       "2                                           [20, 23]   \n",
       "3  [797, 954, 521, 411, 82, 211, 840, 631, 24, 15...   \n",
       "4                                            [53187]   \n",
       "\n",
       "                                 fixing_code_end_loc     type  \\\n",
       "0                                           [34, 91]  CWE-190   \n",
       "1                                          [48, 114]  CWE-639   \n",
       "2                                          [112, 31]  CWE-203   \n",
       "3  [798, 981, 534, 437, 83, 212, 848, 632, 387, 1...  CWE-119   \n",
       "4                                            [55065]  CWE-770   \n",
       "\n",
       "                                             message  \\\n",
       "0  Integer Overflow or Wraparound in GitHub repos...   \n",
       "1  The forgot password token basically just makes...   \n",
       "2  @fastify/bearer-auth is a Fastify plugin to re...   \n",
       "3  Several buffer overflows when handling respons...   \n",
       "4  A flaw was found in Clmg, where with the help ...   \n",
       "\n",
       "                                               other  \n",
       "0  {'cve': {'id': 'CVE-2022-1926', 'sourceIdentif...  \n",
       "1  {'cve': {'id': 'CVE-2022-3019', 'sourceIdentif...  \n",
       "2  {'cve': {'id': 'CVE-2022-31142', 'sourceIdenti...  \n",
       "3  {'cve': {'id': 'CVE-2018-16421', 'sourceIdenti...  \n",
       "4  {'cve': {'id': 'CVE-2022-1325', 'sourceIdentif...  "
      ]
     },
     "execution_count": 54,
     "metadata": {},
     "output_type": "execute_result"
    }
   ],
   "source": [
    "vul_data.head()"
   ]
  },
  {
   "cell_type": "code",
   "execution_count": 50,
   "id": "701eb1e4",
   "metadata": {},
   "outputs": [
    {
     "data": {
      "text/html": [
       "<div>\n",
       "<style scoped>\n",
       "    .dataframe tbody tr th:only-of-type {\n",
       "        vertical-align: middle;\n",
       "    }\n",
       "\n",
       "    .dataframe tbody tr th {\n",
       "        vertical-align: top;\n",
       "    }\n",
       "\n",
       "    .dataframe thead th {\n",
       "        text-align: right;\n",
       "    }\n",
       "</style>\n",
       "<table border=\"1\" class=\"dataframe\">\n",
       "  <thead>\n",
       "    <tr style=\"text-align: right;\">\n",
       "      <th></th>\n",
       "    </tr>\n",
       "  </thead>\n",
       "  <tbody>\n",
       "    <tr>\n",
       "      <th>0</th>\n",
       "    </tr>\n",
       "    <tr>\n",
       "      <th>1</th>\n",
       "    </tr>\n",
       "    <tr>\n",
       "      <th>2</th>\n",
       "    </tr>\n",
       "    <tr>\n",
       "      <th>3</th>\n",
       "    </tr>\n",
       "    <tr>\n",
       "      <th>4</th>\n",
       "    </tr>\n",
       "    <tr>\n",
       "      <th>...</th>\n",
       "    </tr>\n",
       "    <tr>\n",
       "      <th>8482</th>\n",
       "    </tr>\n",
       "    <tr>\n",
       "      <th>8483</th>\n",
       "    </tr>\n",
       "    <tr>\n",
       "      <th>8484</th>\n",
       "    </tr>\n",
       "    <tr>\n",
       "      <th>8485</th>\n",
       "    </tr>\n",
       "    <tr>\n",
       "      <th>8486</th>\n",
       "    </tr>\n",
       "  </tbody>\n",
       "</table>\n",
       "<p>8487 rows × 0 columns</p>\n",
       "</div>"
      ],
      "text/plain": [
       "Empty DataFrame\n",
       "Columns: []\n",
       "Index: [0, 1, 2, 3, 4, 5, 6, 7, 8, 9, 10, 11, 12, 13, 14, 15, 16, 17, 18, 19, 20, 21, 22, 23, 24, 25, 26, 27, 28, 29, 30, 31, 32, 33, 34, 35, 36, 37, 38, 39, 40, 41, 42, 43, 44, 45, 46, 47, 48, 49, 50, 51, 52, 53, 54, 55, 56, 57, 58, 59, 60, 61, 62, 63, 64, 65, 66, 67, 68, 69, 70, 71, 72, 73, 74, 75, 76, 77, 78, 79, 80, 81, 82, 83, 84, 85, 86, 87, 88, 89, 90, 91, 92, 93, 94, 95, 96, 97, 98, 99, ...]\n",
       "\n",
       "[8487 rows x 0 columns]"
      ]
     },
     "execution_count": 50,
     "metadata": {},
     "output_type": "execute_result"
    }
   ],
   "source": []
  },
  {
   "cell_type": "code",
   "execution_count": 55,
   "id": "51dc0737",
   "metadata": {},
   "outputs": [],
   "source": [
    "# Add more columns\n",
    "\n",
    "vul_data['project_name'] = vul_data.apply(lambda row: get_project_name(row), axis=1)\n",
    "vul_data['extension'] = vul_data.apply(lambda row: get_most_common_extension(row), axis=1)"
   ]
  },
  {
   "cell_type": "code",
   "execution_count": 56,
   "id": "b5d969ae",
   "metadata": {},
   "outputs": [
    {
     "data": {
      "text/plain": [
       "0              CWE-190\n",
       "1              CWE-639\n",
       "2              CWE-203\n",
       "3              CWE-119\n",
       "4              CWE-770\n",
       "             ...      \n",
       "8482    NVD-CWE-noinfo\n",
       "8483            CWE-79\n",
       "8484            CWE-89\n",
       "8485           CWE-369\n",
       "8486            CWE-79\n",
       "Name: type, Length: 8487, dtype: object"
      ]
     },
     "execution_count": 56,
     "metadata": {},
     "output_type": "execute_result"
    }
   ],
   "source": [
    "vul_data['type']"
   ]
  },
  {
   "cell_type": "code",
   "execution_count": 75,
   "id": "ccd6e8ec",
   "metadata": {},
   "outputs": [],
   "source": [
    "projectext = vul_data.filter(items = ['project_name','extension'], axis = 1)\n",
    "projectext.value_counts()\n",
    "projectext.to_csv('s.csv')"
   ]
  },
  {
   "cell_type": "code",
   "execution_count": 83,
   "id": "494efc42",
   "metadata": {},
   "outputs": [
    {
     "data": {
      "text/plain": [
       "project_name                         Unnamed: 0  extension\n",
       "01-Scripts/01-Artikelsystem          3327        .php         1\n",
       "01-Scripts/01ACP                     6444        .php         1\n",
       "01org/opa-ff                         2793        .sh          1\n",
       "01org/tpm2.0-tools                   2447        .c           1\n",
       "10gen-archive/mongo-c-driver-legacy  2279        .c           1\n",
       "Name: count, dtype: int64"
      ]
     },
     "execution_count": 83,
     "metadata": {},
     "output_type": "execute_result"
    }
   ],
   "source": [
    "sc = pd.read_csv('s.csv')\n",
    "a = sc.groupby('project_name').value_counts()\n",
    "a.head()"
   ]
  },
  {
   "cell_type": "code",
   "execution_count": 76,
   "id": "3bcffcfa",
   "metadata": {},
   "outputs": [
    {
     "data": {
      "text/plain": [
       "project_name                         extension\n",
       "01-Scripts/01-Artikelsystem          .php         1\n",
       "01-Scripts/01ACP                     .php         1\n",
       "01org/opa-ff                         .sh          1\n",
       "01org/tpm2.0-tools                   .c           1\n",
       "10gen-archive/mongo-c-driver-legacy  .c           1\n",
       "Name: count, dtype: int64"
      ]
     },
     "execution_count": 76,
     "metadata": {},
     "output_type": "execute_result"
    }
   ],
   "source": [
    "a = projectext.groupby('project_name').value_counts()\n",
    "a.head()\n"
   ]
  },
  {
   "cell_type": "code",
   "execution_count": 35,
   "id": "0f19238f",
   "metadata": {},
   "outputs": [
    {
     "data": {
      "text/plain": [
       "type\n",
       "CWE-79            1455\n",
       "CWE-125            435\n",
       "CWE-787            336\n",
       "CWE-476            325\n",
       "NVD-CWE-noinfo     323\n",
       "CWE-20             322\n",
       "CWE-89             314\n",
       "CWE-119            314\n",
       "CWE-22             245\n",
       "CWE-416            201\n",
       "CWE-200            199\n",
       "NVD-CWE-Other      186\n",
       "CWE-190            177\n",
       "CWE-352            175\n",
       "CWE-287            109\n",
       "CWE-400            106\n",
       "CWE-78              99\n",
       "CWE-863             95\n",
       "CWE-362             91\n",
       "CWE-401             90\n",
       "Name: count, dtype: int64"
      ]
     },
     "execution_count": 35,
     "metadata": {},
     "output_type": "execute_result"
    }
   ],
   "source": [
    "vul_data['type'].value_counts()[:20]"
   ]
  },
  {
   "cell_type": "code",
   "execution_count": 60,
   "id": "54dbfbc0",
   "metadata": {},
   "outputs": [],
   "source": [
    "projectName = vul_data['project_name'].value_counts()\n",
    "projectName.to_csv('project.csv')"
   ]
  },
  {
   "cell_type": "code",
   "execution_count": 37,
   "id": "e516d82b",
   "metadata": {},
   "outputs": [
    {
     "data": {
      "text/plain": [
       "extension\n",
       ".c       2559\n",
       ".php     1846\n",
       ".js       642\n",
       ".py       468\n",
       ".cc       408\n",
       ".go       323\n",
       ".java     309\n",
       "          257\n",
       ".rb       219\n",
       ".cpp      209\n",
       ".h        148\n",
       ".md       144\n",
       ".ts       118\n",
       ".cs        55\n",
       ".json      54\n",
       ".txt       48\n",
       ".html      44\n",
       ".rs        38\n",
       ".xml       38\n",
       ".pm        30\n",
       "Name: count, dtype: int64"
      ]
     },
     "execution_count": 37,
     "metadata": {},
     "output_type": "execute_result"
    }
   ],
   "source": [
    "vul_data['extension'].value_counts()[:20]"
   ]
  },
  {
   "cell_type": "code",
   "execution_count": 41,
   "id": "99fa447c",
   "metadata": {},
   "outputs": [
    {
     "name": "stdout",
     "output_type": "stream",
     "text": [
      "0       False\n",
      "1       False\n",
      "2       False\n",
      "3       False\n",
      "4       False\n",
      "        ...  \n",
      "8482    False\n",
      "8483    False\n",
      "8484    False\n",
      "8485    False\n",
      "8486    False\n",
      "Name: extension, Length: 8487, dtype: bool\n"
     ]
    }
   ],
   "source": [
    "print (vul_data['extension']=='.java')\n"
   ]
  },
  {
   "cell_type": "code",
   "execution_count": null,
   "id": "d680ee32",
   "metadata": {},
   "outputs": [],
   "source": []
  }
 ],
 "metadata": {
  "kernelspec": {
   "display_name": "Python 3 (ipykernel)",
   "language": "python",
   "name": "python3"
  },
  "language_info": {
   "codemirror_mode": {
    "name": "ipython",
    "version": 3
   },
   "file_extension": ".py",
   "mimetype": "text/x-python",
   "name": "python",
   "nbconvert_exporter": "python",
   "pygments_lexer": "ipython3",
   "version": "3.10.6"
  }
 },
 "nbformat": 4,
 "nbformat_minor": 5
}
